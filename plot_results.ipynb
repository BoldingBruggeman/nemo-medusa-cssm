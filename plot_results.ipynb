{
 "cells": [
  {
   "cell_type": "code",
   "execution_count": null,
   "metadata": {},
   "outputs": [],
   "source": [
    "import netCDF4\n",
    "from matplotlib import pyplot\n",
    "import matplotlib.colors\n",
    "\n",
    "# Path to results\n",
    "path = './results/nemo-medusa-WIO/nemo-medusa-WIO.nc'"
   ]
  },
  {
   "cell_type": "code",
   "execution_count": null,
   "metadata": {},
   "outputs": [],
   "source": [
    "with netCDF4.Dataset(path) as nc:\n",
    "    biomass_0 = nc['biomass'][0, :, :]\n",
    "    biomass_2015 = nc['biomass'][12*15: 12*25, :, :].mean(axis=0)\n",
    "    biomass_2095 = nc['biomass'][-12*10:, :, :].mean(axis=0)\n",
    "    landings_2015 = nc['landings'][12*15: 12*25, :, :].mean(axis=0)\n",
    "    landings_2095 = nc['landings'][-12*10:, :, :].mean(axis=0)\n",
    "    lon = nc['nav_lon'][:, :]\n",
    "    lat = nc['nav_lat'][:, :]"
   ]
  },
  {
   "cell_type": "code",
   "execution_count": null,
   "metadata": {},
   "outputs": [],
   "source": [
    "# Plot biomass at first time step (after spin up with time-averaged forcing)\n",
    "fig, ax = pyplot.subplots(figsize=(10,10))\n",
    "pc = ax.pcolor(lon, lat, biomass_0)\n",
    "ax.axis('equal')\n",
    "cb = fig.colorbar(pc)"
   ]
  },
  {
   "cell_type": "code",
   "execution_count": null,
   "metadata": {},
   "outputs": [],
   "source": [
    "# Plot change in stock\n",
    "fig, ax = pyplot.subplots(figsize=(10,10))\n",
    "pc = ax.pcolor(lon, lat, biomass_2095 / biomass_2015, cmap='RdBu', vmin=0.5, vmax=1.5)\n",
    "ax.axis('equal')\n",
    "cb = fig.colorbar(pc, extend='both')\n",
    "cb.set_label('total fish biomass in 2090s, relative to 2010s (-)')\n",
    "fig.savefig('biomass.png', dpi=150)"
   ]
  },
  {
   "cell_type": "code",
   "execution_count": null,
   "metadata": {},
   "outputs": [],
   "source": [
    "# Plot change in catch\n",
    "fig, ax = pyplot.subplots(figsize=(10,10))\n",
    "pc = ax.pcolor(lon, lat, landings_2095 / landings_2015, cmap='RdBu', vmin=0.5, vmax=1.5)\n",
    "ax.axis('equal')\n",
    "cb = fig.colorbar(pc, extend='both')\n",
    "cb.set_label('total landings in 2090s, relative to 2010s (-)')\n",
    "fig.savefig('landings.png', dpi=150)"
   ]
  },
  {
   "cell_type": "code",
   "execution_count": null,
   "metadata": {},
   "outputs": [],
   "source": []
  }
 ],
 "metadata": {
  "kernelspec": {
   "display_name": "nemo-medusa-cssm",
   "language": "python",
   "name": "nemo-medusa-cssm"
  },
  "language_info": {
   "codemirror_mode": {
    "name": "ipython",
    "version": 3
   },
   "file_extension": ".py",
   "mimetype": "text/x-python",
   "name": "python",
   "nbconvert_exporter": "python",
   "pygments_lexer": "ipython3",
   "version": "3.8.10"
  }
 },
 "nbformat": 4,
 "nbformat_minor": 4
}
