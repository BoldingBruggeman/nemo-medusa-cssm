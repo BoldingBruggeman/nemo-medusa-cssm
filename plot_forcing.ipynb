{
 "cells": [
  {
   "cell_type": "code",
   "execution_count": null,
   "source": [
    "import netCDF4\r\n",
    "\r\n",
    "%matplotlib widget\r\n",
    "from matplotlib import pyplot\r\n",
    "from ipywidgets import widgets\r\n",
    "\r\n",
    "forcing_path = 'nemo-medusa-WIO.nc'  # This is the path to forcing extracted with extract.py/extract.sbatch - replace as appropriate\r\n",
    "\r\n",
    "nc = netCDF4.Dataset(forcing_path)\r\n",
    "lon = nc.variables['nav_lon'][:, :]\r\n",
    "lat = nc.variables['nav_lat'][:, :]"
   ],
   "outputs": [],
   "metadata": {}
  },
  {
   "cell_type": "code",
   "execution_count": null,
   "source": [
    "fig, ax = pyplot.subplots()\r\n",
    "mask = (nc.variables['votemper'][:, :, :] != 0).any(axis=0)\r\n",
    "pc = ax.pcolor(lon, lat, mask)"
   ],
   "outputs": [],
   "metadata": {}
  },
  {
   "cell_type": "code",
   "execution_count": null,
   "source": [
    "bm = nc.variables['bm_int']\r\n",
    "\r\n",
    "fig = pyplot.figure()\r\n",
    "\r\n",
    "def update(itime=0):\r\n",
    "    fig.clf()\r\n",
    "    ax = fig.gca()\r\n",
    "    pc = ax.pcolor(lon, lat, bm[itime, :, :])\r\n",
    "    ax.set_title('time = %i' % itime)\r\n",
    "    cb = fig.colorbar(pc)\r\n",
    "    cb.set_label('depth-integrated plankton biomass (ton km-2)')\r\n",
    "    ax.axis('equal')\r\n",
    "slider = widgets.interact(update, itime=(0, bm.shape[0] - 1))\r\n"
   ],
   "outputs": [],
   "metadata": {}
  },
  {
   "cell_type": "code",
   "execution_count": null,
   "source": [
    "nc.variables.keys()"
   ],
   "outputs": [],
   "metadata": {}
  },
  {
   "cell_type": "code",
   "execution_count": null,
   "source": [],
   "outputs": [],
   "metadata": {}
  }
 ],
 "metadata": {
  "interpreter": {
   "hash": "97ae724bfa85b9b34df7982b8bb8c7216f435b92902d749e4263f71162bea840"
  },
  "kernelspec": {
   "display_name": "Python 3.8.8 64-bit ('base': conda)",
   "name": "python3"
  },
  "language_info": {
   "name": "python",
   "version": ""
  },
  "orig_nbformat": 4
 },
 "nbformat": 4,
 "nbformat_minor": 2
}